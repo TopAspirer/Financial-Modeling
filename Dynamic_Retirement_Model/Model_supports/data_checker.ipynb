{
 "cells": [
  {
   "cell_type": "markdown",
   "metadata": {},
   "source": [
    "# Module for seeing what's in the data sets."
   ]
  },
  {
   "cell_type": "code",
   "execution_count": 15,
   "metadata": {},
   "outputs": [
    {
     "name": "stdout",
     "output_type": "stream",
     "text": [
      "Index(['Jan-14', 'Feb-14', 'Mar-14', 'Apr-14', 'Jan-00', 'Jun-14', 'Jan-00.1',\n",
      "       'Jan-00.2', 'Jan-00.3', 'Jan-00.4',\n",
      "       ...\n",
      "       'Apr-23', 'May-23', 'Jun-23', 'Jul-23', 'Aug-23', 'Sep-23', 'Oct-23',\n",
      "       'Nov-23', 'Dec-23', 'Jan-24'],\n",
      "      dtype='object', length=200)\n"
     ]
    }
   ],
   "source": [
    "from matplotlib import pyplot as  plt\n",
    "import pandas as pnds\n",
    "\n",
    "\n",
    "# Importing the inflation data from stats canada\n",
    "\n",
    "filename = r\"canada_core_inflation.csv\"\n",
    "with open(filename) as inflation_data:\n",
    "    inflation = pnds.read_csv(inflation_data)\n",
    "    print(inflation.columns)\n",
    "    \n",
    "\n"
   ]
  },
  {
   "cell_type": "code",
   "execution_count": null,
   "metadata": {},
   "outputs": [],
   "source": [
    "import pandas as pd  # Use \"pd\" for the convention\n",
    "from matplotlib import pyplot as plt\n",
    "\n",
    "# File path\n",
    "filename = r\"canada_core_inflation.csv\"\n",
    "\n",
    "# Read the CSV file\n",
    "inflation = pd.read_csv(filename)\n",
    "\n",
    "# Display column names to confirm structure\n",
    "print(inflation.columns)\n",
    "\n",
    "# Assuming you want data for a specific column\n",
    "x = inflation[\"01/01/2014\"]  # Replace with the exact column name\n"
   ]
  }
 ],
 "metadata": {
  "kernelspec": {
   "display_name": "Python 3",
   "language": "python",
   "name": "python3"
  },
  "language_info": {
   "codemirror_mode": {
    "name": "ipython",
    "version": 3
   },
   "file_extension": ".py",
   "mimetype": "text/x-python",
   "name": "python",
   "nbconvert_exporter": "python",
   "pygments_lexer": "ipython3",
   "version": "3.13.0"
  }
 },
 "nbformat": 4,
 "nbformat_minor": 2
}
