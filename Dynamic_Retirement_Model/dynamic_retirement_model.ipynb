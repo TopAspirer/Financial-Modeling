{
 "cells": [
  {
   "cell_type": "markdown",
   "metadata": {},
   "source": [
    "# Dynamic Retirement Model\n",
    "## Based on the dynamic retirement model I made on excel\n",
    "\n",
    "- [**Setup**](#Setup): Run any imports and other setup.\n",
    "- [**Inputs**](#Inputs): Defines the inputs for the model.\n",
    "- [**Salaries**](#salaries): Determines the annual salary based on  cost of living raises and promotions.\n",
    "- [**Wealth**](#Wealth): The overall wealth of the individual through out a period of year.\n",
    "- [**Retirement**](#Retirement): The overall retirement of the individual\n",
    "\n"
   ]
  },
  {
   "cell_type": "markdown",
   "metadata": {},
   "source": [
    "## Setup"
   ]
  },
  {
   "cell_type": "code",
   "execution_count": 4,
   "metadata": {},
   "outputs": [],
   "source": [
    "from dataclasses import dataclass"
   ]
  },
  {
   "cell_type": "markdown",
   "metadata": {},
   "source": [
    "## Inputs \n",
    "All the inputs of the model are defined here. A class is constructed to manage the data. An instance of the class containing inputs is created. "
   ]
  },
  {
   "cell_type": "code",
   "execution_count": 5,
   "metadata": {},
   "outputs": [],
   "source": [
    "@dataclass\n",
    "class ModelInputs:\n",
    "    starting_salary: float = 60000\n",
    "    promos_every_n_years: float = 5\n",
    "    promo_raise: float = 0.15\n",
    "    cost_living_raise: float = 0.02\n",
    "    savings_rate: float = 0.25\n",
    "    interest_rate: float = 0.05             \n",
    "    #prior_money: float = 0 \n",
    "    desired_cash: float = 1500000\n",
    "    \n",
    "\n",
    "model_data = ModelInputs()\n",
    "\n"
   ]
  },
  {
   "cell_type": "code",
   "execution_count": 6,
   "metadata": {},
   "outputs": [],
   "source": [
    "# Work with data instead of model data to be able to pass it arbitrary data. \n",
    "data = model_data"
   ]
  },
  {
   "cell_type": "markdown",
   "metadata": {},
   "source": [
    "## Salaries \n",
    "\n",
    "The formula for calculating the salary is: \n",
    "\n",
    "$S_t = S_0(1 + r_I)^t(1 + r_p)^p$\n",
    "\n",
    " - $S_t$: Salary at year t\n",
    " - $S_0$: Starting Wealth\n",
    " - $r_I$: Return for cost of living\n",
    " - $t$: Number of years\n",
    " - $r_p$:Number of promotion\n",
    "- $p$:Number of promotions"
   ]
  },
  {
   "cell_type": "code",
   "execution_count": 7,
   "metadata": {},
   "outputs": [
    {
     "name": "stdout",
     "output_type": "stream",
     "text": [
      "Salary in year 1: $61,200.00\n",
      "Salary in year 2: $62,424.00\n",
      "Salary in year 3: $63,672.48\n",
      "Salary in year 4: $64,945.93\n",
      "You get a raise in year 5: $76,181.58\n",
      "Salary in year 6: $77,705.21\n",
      "Salary in year 7: $79,259.31\n",
      "Salary in year 8: $80,844.50\n",
      "Salary in year 9: $82,461.39\n",
      "You get a raise in year 10: $96,727.21\n",
      "Salary in year 11: $98,661.75\n",
      "Salary in year 12: $100,634.99\n",
      "Salary in year 13: $102,647.69\n",
      "Salary in year 14: $104,700.64\n",
      "You get a raise in year 15: $122,813.85\n",
      "Salary in year 16: $125,270.13\n",
      "Salary in year 17: $127,775.53\n",
      "Salary in year 18: $130,331.04\n",
      "Salary in year 19: $132,937.66\n",
      "You get a raise in year 20: $155,935.88\n",
      "Salary in year 21: $159,054.59\n",
      "Salary in year 22: $162,235.69\n",
      "Salary in year 23: $165,480.40\n",
      "Salary in year 24: $168,790.01\n",
      "You get a raise in year 25: $197,990.68\n",
      "Salary in year 26: $201,950.49\n",
      "Salary in year 27: $205,989.50\n",
      "Salary in year 28: $210,109.29\n",
      "Salary in year 29: $214,311.48\n",
      "You get a raise in year 30: $251,387.36\n",
      "Salary in year 31: $256,415.11\n",
      "Salary in year 32: $261,543.41\n",
      "Salary in year 33: $266,774.28\n",
      "Salary in year 34: $272,109.77\n",
      "You get a raise in year 35: $319,184.76\n",
      "Salary in year 36: $325,568.45\n",
      "Salary in year 37: $332,079.82\n",
      "Salary in year 38: $338,721.42\n",
      "Salary in year 39: $345,495.85\n",
      "You get a raise in year 40: $405,266.63\n"
     ]
    }
   ],
   "source": [
    "\n",
    "def salary_at_year (data, year):\n",
    "    \"\"\"\n",
    "    Calculates the salary at a specific year.\n",
    "    Parameters are: \n",
    "    - data (cost of living raise, promotion raise, and starting salary)\n",
    "    - year (The specific year you would like to determine your salary amount)\n",
    "    \"\"\"\n",
    "    num_promos = int(year / data.promos_every_n_years)\n",
    "    num_promos\n",
    "    salary_t = data.starting_salary * (1 + data.cost_living_raise)**year * (1 + data.promo_raise) ** num_promos\n",
    "    return salary_t\n",
    "\n",
    "## Testing the salary over a course of 40 years. \n",
    "## Returns a text indicating when you'll recieve a promotion.\n",
    "\n",
    "promo_every_n_year = data.promos_every_n_years\n",
    "year = 40\n",
    "\n",
    "for i in range(year):\n",
    "    year = i + 1\n",
    "    salary = salary_at_year(data,year)\n",
    "    if year in range(promo_every_n_year,120, promo_every_n_year):\n",
    "        print(f\"You get a raise in year {year}: ${salary:,.2f}\")\n",
    "\n",
    "    elif year not in range(promo_every_n_year,120, promo_every_n_year):\n",
    "        print(f\"Salary in year {year}: ${salary:,.2f}\")"
   ]
  },
  {
   "cell_type": "markdown",
   "metadata": {},
   "source": [
    "## Wealth\n",
    "\n",
    "For wealths, you need to add the investment return and then the savings in each year.\n",
    "The formula used for calculating wealth is: \n",
    "\n",
    "$W_t = W_t(1 + r_i) + S_tV$\n",
    "\n",
    "- $S_t$: Salary at year t\n",
    "- $W_t$: Wealth at year t\n",
    "- $r_i$: Investment return\n",
    "- $t$: Number of years\n",
    "- $V$: Savings rate"
   ]
  },
  {
   "cell_type": "code",
   "execution_count": 8,
   "metadata": {},
   "outputs": [
    {
     "name": "stdout",
     "output_type": "stream",
     "text": [
      "Money saved in year 1: $15,300.00\n",
      "Money saved in year 2: $15,606.00\n",
      "Money saved in year 3: $15,918.12\n",
      "Money saved in year 4: $16,236.48\n",
      "Money saved in year 5: $19,045.39\n",
      "Money saved in year 6: $19,426.30\n",
      "Money saved in year 7: $19,814.83\n",
      "Money saved in year 8: $20,211.12\n",
      "Money saved in year 9: $20,615.35\n",
      "Money saved in year 10: $24,181.80\n",
      "Money saved in year 11: $24,665.44\n",
      "Money saved in year 12: $25,158.75\n",
      "Money saved in year 13: $25,661.92\n",
      "Money saved in year 14: $26,175.16\n",
      "Money saved in year 15: $30,703.46\n",
      "Money saved in year 16: $31,317.53\n",
      "Money saved in year 17: $31,943.88\n",
      "Money saved in year 18: $32,582.76\n",
      "Money saved in year 19: $33,234.42\n",
      "Money saved in year 20: $38,983.97\n",
      "Money saved in year 21: $39,763.65\n",
      "Money saved in year 22: $40,558.92\n",
      "Money saved in year 23: $41,370.10\n",
      "Money saved in year 24: $42,197.50\n",
      "Money saved in year 25: $49,497.67\n",
      "Money saved in year 26: $50,487.62\n",
      "Money saved in year 27: $51,497.38\n",
      "Money saved in year 28: $52,527.32\n",
      "Money saved in year 29: $53,577.87\n",
      "Money saved in year 30: $62,846.84\n",
      "Money saved in year 31: $64,103.78\n",
      "Money saved in year 32: $65,385.85\n",
      "Money saved in year 33: $66,693.57\n",
      "Money saved in year 34: $68,027.44\n",
      "Money saved in year 35: $79,796.19\n",
      "Money saved in year 36: $81,392.11\n",
      "Money saved in year 37: $83,019.96\n",
      "Money saved in year 38: $84,680.35\n",
      "Money saved in year 39: $86,373.96\n",
      "Money saved in year 40: $101,316.66\n"
     ]
    }
   ],
   "source": [
    "\n",
    "def cash_saved_during_year (data, year):\n",
    "    \"\"\"\n",
    "    This function is a component of the overall\n",
    "    wealth equation. Determines the cash saved \n",
    "    in any given year. This function is solving\n",
    "    the end portion of the wealth equation \n",
    "    defined in the Outline of the markdown cell.\n",
    "\n",
    "    Parameters:\n",
    "    - model data (salary, savings rate)\n",
    "    - year\n",
    "    \"\"\"\n",
    "    salary = salary_at_year(data,year)\n",
    "    cash_saved = salary * data.savings_rate\n",
    "    return cash_saved\n",
    "\n",
    "## Testing the cash saved over a period of time\n",
    "prior_wealth = 0 \n",
    "\n",
    "for i in range(year):\n",
    "    year = i + 1\n",
    "    cash_saved = cash_saved_during_year(data,year)\n",
    "    print(f\"Money saved in year {year}: ${cash_saved:,.2f}\")\n",
    "\n",
    "    "
   ]
  },
  {
   "cell_type": "code",
   "execution_count": 9,
   "metadata": {},
   "outputs": [
    {
     "name": "stdout",
     "output_type": "stream",
     "text": [
      "Your wealth in year 1: $15,300.00\n",
      "Your wealth in year 2: $31,671.00\n",
      "Your wealth in year 3: $49,172.67\n",
      "Your wealth in year 4: $67,867.79\n",
      "Your wealth in year 5: $90,306.57\n"
     ]
    }
   ],
   "source": [
    "year = 5\n",
    "\n",
    "def wealth_that_year(data, year, prior_wealth):\n",
    "    \"\"\"\n",
    "    Function determines the wealth in any given year.\n",
    "    Parameters include:\n",
    "    - data (interest rate)\n",
    "    - cash saved (determined in another function)\n",
    "    - prior wealth (determined in another function)\n",
    "\n",
    "    The function does two things, calculates prior\n",
    "    wealth and overall wealth.\n",
    "    \"\"\"\n",
    "    cash_saved = cash_saved_during_year(data,year)\n",
    "    wealth =  prior_wealth * (1 + data.interest_rate) + cash_saved\n",
    "    return wealth\n",
    "\n",
    "## Testing the wealth function.\n",
    "##! Don't mess around with this!\n",
    "\n",
    "\n",
    "for i in range(year):\n",
    "    \"\"\"\n",
    "    Loop takes the first wealth and iterates it to the prior wealth\n",
    "    for the length of years that are being tested.\n",
    "\n",
    "    !! Before you rerun it, restart all variables in the model, \n",
    "    otherwise the if you run the loop it'll keep adding onto the \n",
    "    previously calculated wealth that's in memory.\n",
    "    \"\"\"\n",
    "    year = i + 1\n",
    "    wealth = wealth_that_year(model_data,year, prior_wealth) \n",
    "    print(f\"Your wealth in year {year}: ${wealth:,.2f}\")\n",
    "    prior_wealth = wealth\n",
    "\n",
    "\n",
    "\n"
   ]
  },
  {
   "cell_type": "markdown",
   "metadata": {},
   "source": [
    "## Retirement \n",
    "\n",
    "The way this works is, it takes loop from the wealth section and runs it untill the individuals desired retirement cash is hit.\n"
   ]
  },
  {
   "cell_type": "code",
   "execution_count": 10,
   "metadata": {},
   "outputs": [
    {
     "name": "stdout",
     "output_type": "stream",
     "text": [
      "Wealths over time: \n",
      "\n",
      "Your wealth in year 1: $15,300.00\n",
      "Your wealth in year 2: $31,671.00\n",
      "Your wealth in year 3: $49,172.67\n",
      "Your wealth in year 4: $67,867.79\n",
      "Your wealth in year 5: $90,306.57\n",
      "Your wealth in year 6: $114,248.20\n",
      "Your wealth in year 7: $139,775.44\n",
      "Your wealth in year 8: $166,975.33\n",
      "Your wealth in year 9: $195,939.45\n",
      "Your wealth in year 10: $229,918.22\n",
      "Your wealth in year 11: $266,079.57\n",
      "Your wealth in year 12: $304,542.29\n",
      "Your wealth in year 13: $345,431.33\n",
      "Your wealth in year 14: $388,878.06\n",
      "Your wealth in year 15: $439,025.42\n",
      "Your wealth in year 16: $492,294.23\n",
      "Your wealth in year 17: $548,852.82\n",
      "Your wealth in year 18: $608,878.22\n",
      "Your wealth in year 19: $672,556.55\n",
      "Your wealth in year 20: $745,168.34\n",
      "Your wealth in year 21: $822,190.41\n",
      "Your wealth in year 22: $903,858.85\n",
      "Your wealth in year 23: $990,421.89\n",
      "Your wealth in year 24: $1,082,140.49\n",
      "Your wealth in year 25: $1,185,745.19\n",
      "Your wealth in year 26: $1,295,520.07\n",
      "Your wealth in year 27: $1,411,793.45\n",
      "Your wealth in year 28: $1,534,910.44\n",
      "\n",
      "Retirement:\n",
      "It will take 28 years to retire.\n"
     ]
    },
    {
     "data": {
      "text/plain": [
       "28"
      ]
     },
     "execution_count": 10,
     "metadata": {},
     "output_type": "execute_result"
    }
   ],
   "source": [
    "def years_to_retirement(data):\n",
    "    \"\"\"\n",
    "    Function runs a while loop untill the year\n",
    "    your desired cash target is met. \n",
    "    \"\"\"\n",
    "    prior_wealth = 0 \n",
    "    wealth = 0 \n",
    "    year = 0\n",
    "\n",
    "    print(\"Wealths over time: \\n\")\n",
    "    while wealth < data.desired_cash:\n",
    "        year = year + 1\n",
    "        wealth = wealth_that_year(data,year, prior_wealth) \n",
    "        print(f\"Your wealth in year {year}: ${wealth:,.2f}\")\n",
    "        prior_wealth = wealth\n",
    "\n",
    "        if wealth >= data.desired_cash:\n",
    "            retirement_year = year\n",
    "\n",
    "    print(f\"\\nRetirement:\")\n",
    "    print(f\"It will take {retirement_year} years to retire.\")\n",
    "    return retirement_year\n",
    "  \n",
    "years_to_retirement(data)"
   ]
  }
 ],
 "metadata": {
  "kernelspec": {
   "display_name": "Python 3",
   "language": "python",
   "name": "python3"
  },
  "language_info": {
   "codemirror_mode": {
    "name": "ipython",
    "version": 3
   },
   "file_extension": ".py",
   "mimetype": "text/x-python",
   "name": "python",
   "nbconvert_exporter": "python",
   "pygments_lexer": "ipython3",
   "version": "3.13.0"
  }
 },
 "nbformat": 4,
 "nbformat_minor": 2
}
