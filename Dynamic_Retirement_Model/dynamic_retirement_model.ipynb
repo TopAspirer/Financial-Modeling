{
 "cells": [
  {
   "cell_type": "markdown",
   "metadata": {},
   "source": [
    "# Dynamic Retirement Model\n",
    "## Based on the dynamic retirement model I made on excel\n",
    "\n",
    "- [**Setup**](#Setup): Run any imports and other setup.\n",
    "- [**Inputs**](#Inputs): Defines the inputs for the model.\n",
    "- [**Salaries**](#salaries): Determines the annual salary based on  cost of living raises and promotions.\n",
    "- [**Wealth**](#Wealth): The overall wealth of the individual\n",
    "\n"
   ]
  },
  {
   "cell_type": "markdown",
   "metadata": {},
   "source": [
    "## Setup"
   ]
  },
  {
   "cell_type": "code",
   "execution_count": 4,
   "metadata": {},
   "outputs": [],
   "source": [
    "from dataclasses import dataclass"
   ]
  },
  {
   "cell_type": "markdown",
   "metadata": {},
   "source": [
    "## Inputs \n",
    "All the inputs of the model are defined here. A class is constructed to manage the data. An instance of the class containing inputs is created. "
   ]
  },
  {
   "cell_type": "code",
   "execution_count": 75,
   "metadata": {},
   "outputs": [
    {
     "data": {
      "text/plain": [
       "ModelInputs(starting_salary=60000, promos_every_n_years=5, promo_raise=0.15, cost_living_raise=0.02, savings_rate=0.25, interest_rate=0.05, prior_wealth=0, desired_cash=1500000)"
      ]
     },
     "execution_count": 75,
     "metadata": {},
     "output_type": "execute_result"
    }
   ],
   "source": [
    "@dataclass\n",
    "class ModelInputs:\n",
    "    starting_salary: int = 60000\n",
    "    promos_every_n_years: int = 5\n",
    "    promo_raise: float = 0.15\n",
    "    cost_living_raise: float = 0.02\n",
    "    savings_rate: float = 0.25\n",
    "    interest_rate: float = 0.05             \n",
    "    prior_wealth: float = 0\n",
    "    desired_cash: int = 1500000\n",
    "    \n",
    "\n",
    "model_data = ModelInputs()\n",
    "model_data\n"
   ]
  },
  {
   "cell_type": "code",
   "execution_count": 31,
   "metadata": {},
   "outputs": [],
   "source": [
    "# Work with data instead of model data to be able to pass it arbitrary data. \n",
    "data = model_data"
   ]
  },
  {
   "cell_type": "markdown",
   "metadata": {},
   "source": [
    "## Salaries \n",
    "\n",
    "The formula for calculating the salary is: \n",
    "\n",
    "$S_t = S_0(1 + r_I)^t(1 + r_p)^p$\n",
    "\n",
    " - $S_t$: Salary at year t\n",
    " - $S_0$: Starting Wealth\n",
    " - $r_I$: Return for cost of living\n",
    " - $t$: Number of years\n",
    " - $r_p$:Number of promotion\n",
    "- $p$:Number of promotions"
   ]
  },
  {
   "cell_type": "code",
   "execution_count": 76,
   "metadata": {},
   "outputs": [],
   "source": [
    "\n",
    "def salary_at_year (data, year):\n",
    "    \"\"\"\n",
    "    Calculates the salary at a specific year.\n",
    "    Parameters are: \n",
    "    - data (cost of living raise, promotion raise, and starting salary)\n",
    "    - year (The specific year you would like to determine your salary amount)\n",
    "    \"\"\"\n",
    "    num_promos = int(year / data.promos_every_n_years)\n",
    "    num_promos\n",
    "    salary_t = data.starting_salary * (1 + data.cost_living_raise)**year * (1 + data.promo_raise) ** num_promos\n",
    "    return salary_t\n",
    "\n"
   ]
  },
  {
   "cell_type": "code",
   "execution_count": null,
   "metadata": {},
   "outputs": [],
   "source": [
    "# Testing the functionality of the yearly salary equation.\n",
    "data.starting_salary = 60000\n",
    "data.promo_raise = 0.15\n",
    "data.promos_every_n_years = 5\n",
    "\n",
    "for year in range(1,41):\n",
    "    salary = salary_at_year(data, year)\n",
    "    print(f\"Year {year} : ${salary:,.2f}\")"
   ]
  },
  {
   "cell_type": "markdown",
   "metadata": {},
   "source": [
    "## Wealth\n",
    "\n",
    "For wealths, you need to add the investment return and then the savings in each year.\n",
    "The formula used for calculating wealth is: \n",
    "\n",
    "$W_t = W_t(1 + r_i) + S_tV$\n",
    "\n",
    "- $S_t$: Salary at year t\n",
    "- $W_t$: Wealth at year t\n",
    "- $r_i$: Investment return\n",
    "- $t$: Number of years\n",
    "- $V$: Savings rate"
   ]
  },
  {
   "cell_type": "code",
   "execution_count": 78,
   "metadata": {},
   "outputs": [],
   "source": [
    "\n",
    "def cash_saved_during_year (data, year):\n",
    "    \"\"\"\n",
    "    Determines the cash saved in any given year.\n",
    "    This function is solving the end portion of \n",
    "    the wealth equation defined in the Outline\n",
    "    of the markdown cell.\n",
    "\n",
    "    Parameters:\n",
    "    - model data (salary, savings rate)\n",
    "    - year\n",
    "    \"\"\"\n",
    "    cash_saved = salary * data.savings_rate\n",
    "    return cash_saved\n",
    "\n"
   ]
  },
  {
   "cell_type": "code",
   "execution_count": 87,
   "metadata": {},
   "outputs": [
    {
     "ename": "AttributeError",
     "evalue": "'ModelInputs' object has no attribute 'prior_wealth'",
     "output_type": "error",
     "traceback": [
      "\u001b[1;31m---------------------------------------------------------------------------\u001b[0m",
      "\u001b[1;31mAttributeError\u001b[0m                            Traceback (most recent call last)",
      "Cell \u001b[1;32mIn[87], line 2\u001b[0m\n\u001b[0;32m      1\u001b[0m year \u001b[38;5;241m=\u001b[39m \u001b[38;5;241m6\u001b[39m\n\u001b[1;32m----> 2\u001b[0m prior_wealth \u001b[38;5;241m=\u001b[39m \u001b[43mdata\u001b[49m\u001b[38;5;241;43m.\u001b[39;49m\u001b[43mprior_wealth\u001b[49m\n\u001b[0;32m      4\u001b[0m \u001b[38;5;28;01mdef\u001b[39;00m \u001b[38;5;21mprior_wealth_forwader\u001b[39m(data,year,prior_wealth):\n\u001b[0;32m      5\u001b[0m \u001b[38;5;250m    \u001b[39m\u001b[38;5;124;03m\"\"\"\u001b[39;00m\n\u001b[0;32m      6\u001b[0m \u001b[38;5;124;03m    Function calculates the prior wealth\u001b[39;00m\n\u001b[0;32m      7\u001b[0m \u001b[38;5;124;03m    by forwarding the previous years wealth\u001b[39;00m\n\u001b[0;32m      8\u001b[0m \u001b[38;5;124;03m    to the next year's. \u001b[39;00m\n\u001b[0;32m      9\u001b[0m \u001b[38;5;124;03m    \"\"\"\u001b[39;00m\n",
      "\u001b[1;31mAttributeError\u001b[0m: 'ModelInputs' object has no attribute 'prior_wealth'"
     ]
    }
   ],
   "source": [
    "\n",
    "year = 6\n",
    "prior_wealth = data.prior_wealth\n",
    "\n",
    "def prior_wealth_forwader(data,year,prior_wealth):\n",
    "    \"\"\"\n",
    "    Function calculates the prior wealth\n",
    "    by forwarding the previous years wealth\n",
    "    to the next year's. \n",
    "    \"\"\"\n",
    "    prior_wealth = data.prior_wealth\n",
    "    for money_saved in range(year):\n",
    "        money_saved += 1\n",
    "        prior_wealth = wealth_that_year(data,year,prior_wealth)\n",
    "    return prior_wealth\n",
    "\n",
    "prior_wealth_ = prior_wealth_forwader(data,year)\n",
    "\n",
    "def wealth_that_year(data,year,prior_wealth_):\n",
    "    \"\"\"\n",
    "    \n",
    "    \"\"\"\n",
    "    cash_saved = cash_saved_during_year(data, year)\n",
    "    wealth = prior_wealth_ * (1 + data.interest_rate) + cash_saved\n",
    "    return wealth\n",
    "\n",
    "\n",
    "\n"
   ]
  }
 ],
 "metadata": {
  "kernelspec": {
   "display_name": "Python 3",
   "language": "python",
   "name": "python3"
  },
  "language_info": {
   "codemirror_mode": {
    "name": "ipython",
    "version": 3
   },
   "file_extension": ".py",
   "mimetype": "text/x-python",
   "name": "python",
   "nbconvert_exporter": "python",
   "pygments_lexer": "ipython3",
   "version": "3.13.0"
  }
 },
 "nbformat": 4,
 "nbformat_minor": 2
}
