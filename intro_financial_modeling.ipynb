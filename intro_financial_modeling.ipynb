{
 "cells": [
  {
   "cell_type": "markdown",
   "metadata": {},
   "source": [
    "# What is a Financial Model?\n",
    "## A financial model is : Inputs ---> Model  ---> Outputs\n",
    "\n",
    "### A SIMPLE MODEL EXAMPLE - \n",
    "A real world problem can be like how much someone needs for retirement:\n",
    "Wages,Savings ---> Investment ---> Cash in the bank, person retires\n",
    "\n",
    "A model of the problem from the real world problem:\n",
    "Inputs in the investments are the interest rates, the portion of their paycheck, etc. The output is the Future Value of their Cash Flows,etc\n",
    "Cash flows, savings rate, interest rates ---> Model ---> FV of CF, time until retirement\n",
    "\n",
    "### A MORE COMPLICATED MODEL - \n",
    "Valuing a company (DCF - Discounted Cash Flow Model)\n",
    "A real world problem for a massive company can be :\n",
    "Microsoft creates software ---> Sells the software ---> Generates cash for investors, stock reaches a price.\n",
    "\n",
    "There is a lot more to making this model like how much it takes to make the software, employees, other operations that you wish to explore.\n",
    "A model of this problem can like the this: \n",
    "Revenue, COGS, G&A, growth rates, Costs of capital,etc ---> Model ---> Stock price, stock returns \n",
    "\n"
   ]
  },
  {
   "cell_type": "markdown",
   "metadata": {},
   "source": [
    "#### Building a Basic Python Model\n",
    "The inputs are defined below:"
   ]
  },
  {
   "cell_type": "code",
   "execution_count": 2,
   "metadata": {},
   "outputs": [],
   "source": [
    "salary = 60000\n",
    "savings_rate = 0.25\n",
    "investment_rate = 0.05\n",
    "desired_cash  = 1500000\n",
    "\n",
    "## Determining Cash Saved\n",
    "annual_cash = salary * savings_rate\n",
    "annual_cash\n",
    "\n",
    "## Years to Retirement\n",
    "\n",
    "import numpy as np\n",
    "import numpy_financial as npf\n",
    "\n",
    "years_to_retirement = npf.nper(investment_rate,-annual_cash,0,desired_cash)\n",
    "print(f\"You have {years_to_retirement:.1F} years to retirement.\")\n"
   ]
  },
  {
   "cell_type": "markdown",
   "metadata": {},
   "source": [
    "#### Exploring Jupyter Functions\n",
    "\n",
    "Adding equations in the markdown cells, you place equations between dollar signs\n",
    "$c^2 = a^2 + b^2$   \n",
    "\n",
    "You can add bullet points as well\n",
    "\n",
    "- look \n",
    "- here\n",
    "- now"
   ]
  }
 ],
 "metadata": {
  "kernelspec": {
   "display_name": "Python 3",
   "language": "python",
   "name": "python3"
  },
  "language_info": {
   "codemirror_mode": {
    "name": "ipython",
    "version": 3
   },
   "file_extension": ".py",
   "mimetype": "text/x-python",
   "name": "python",
   "nbconvert_exporter": "python",
   "pygments_lexer": "ipython3",
   "version": "3.13.0"
  }
 },
 "nbformat": 4,
 "nbformat_minor": 2
}
